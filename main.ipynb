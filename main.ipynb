{
 "cells": [
  {
   "cell_type": "code",
   "execution_count": 8,
   "outputs": [
    {
     "name": "stdout",
     "output_type": "stream",
     "text": [
      "work/inputs/lastfm-dataset-1K/userid-timestamp-artid-artname-traid-traname.tsv\n"
     ]
    }
   ],
   "source": [
    "from pyspark.sql import SparkSession\n",
    "from pyspark.sql.functions import *\n",
    "from pyspark.sql.types import StructField, TimestampType\n",
    "from pyspark.sql.window import Window"
   ],
   "metadata": {
    "collapsed": false,
    "ExecuteTime": {
     "start_time": "2023-04-19T17:01:52.634178Z",
     "end_time": "2023-04-19T17:01:52.658768Z"
    }
   }
  },
  {
   "cell_type": "code",
   "execution_count": 2,
   "outputs": [],
   "source": [
    "# create a SparkSession\n",
    "spark = SparkSession.builder \\\n",
    "    .appName(\"LastFM Top Songs Challenge\") \\\n",
    "    .getOrCreate()"
   ],
   "metadata": {
    "collapsed": false,
    "ExecuteTime": {
     "start_time": "2023-04-19T08:58:29.457465Z",
     "end_time": "2023-04-19T08:58:32.300469Z"
    }
   }
  },
  {
   "cell_type": "code",
   "execution_count": 3,
   "outputs": [
    {
     "name": "stdout",
     "output_type": "stream",
     "text": [
      "+-----------+-------------------+--------------------+-----------+--------------------+--------------------+\n",
      "|    user_id|          timestamp| musicbrainz_trackid|artist_name|musicbrainz-track-id|          track_name|\n",
      "+-----------+-------------------+--------------------+-----------+--------------------+--------------------+\n",
      "|user_000001|2009-05-05 01:08:57|f1b1cf71-bd35-4e9...|  Deep Dish|                null|Fuck Me Im Famous...|\n",
      "|user_000001|2009-05-04 15:54:10|a7f7df4a-77d8-4f1...|   坂本龍一|                null|Composition 0919 ...|\n",
      "|user_000001|2009-05-04 15:52:04|a7f7df4a-77d8-4f1...|   坂本龍一|                null|Mc2 (Live_2009_4_15)|\n",
      "|user_000001|2009-05-04 15:42:52|a7f7df4a-77d8-4f1...|   坂本龍一|                null|Hibari (Live_2009...|\n",
      "|user_000001|2009-05-04 15:42:11|a7f7df4a-77d8-4f1...|   坂本龍一|                null|Mc1 (Live_2009_4_15)|\n",
      "+-----------+-------------------+--------------------+-----------+--------------------+--------------------+\n",
      "only showing top 5 rows\n",
      "\n"
     ]
    }
   ],
   "source": [
    "# userid \\t timestamp \\t musicbrainz-artist-id \\t artist-name \\t musicbrainz-track-id \\t track-name\n",
    "schema = StructType([\n",
    "    StructField(\"user_id\", StringType(), False),\n",
    "    StructField(\"timestamp\", TimestampType(), True),\n",
    "    StructField(\"musicbrainz_trackid\", StringType(), True),\n",
    "    StructField(\"artist_name\", StringType(), True),\n",
    "    StructField(\"musicbrainz-track-id\", StringType(), True),\n",
    "    StructField(\"track_name\", StringType(), True)\n",
    "])\n",
    "\n",
    "# read the data into a DataFrame, with schema option set to the custom schema\n",
    "data = spark.read.format(\"csv\") \\\n",
    "    .option(\"header\", \"false\") \\\n",
    "    .option(\"delimiter\", \"\\t\") \\\n",
    "    .option(\"inferSchema\", \"false\") \\\n",
    "    .schema(schema) \\\n",
    "    .load(\"work/inputs/lastfm-dataset-1K/userid-timestamp-artid-artname-traid-traname.tsv\")\n",
    "\n",
    "data.show(5)"
   ],
   "metadata": {
    "collapsed": false,
    "ExecuteTime": {
     "start_time": "2023-04-19T08:58:32.299707Z",
     "end_time": "2023-04-19T08:58:35.291835Z"
    }
   }
  },
  {
   "cell_type": "code",
   "execution_count": 5,
   "outputs": [
    {
     "name": "stdout",
     "output_type": "stream",
     "text": [
      "+----------------+------------------------------------------------------+----------+\n",
      "|artist_name     |track_name                                            |play_count|\n",
      "+----------------+------------------------------------------------------+----------+\n",
      "|Def Leppard     |Me & My Wine (Remix)                                  |2         |\n",
      "|Vanessa Williams|You Are Everything (Junior Vasquez Mirrorball Clubmix)|2         |\n",
      "|311             |Large In The Margin                                   |1         |\n",
      "|Cypress Hill    |(Rock) Superstar                                      |1         |\n",
      "|Cypress Hill    |A Man                                                 |1         |\n",
      "|Cypress Hill    |Can'T Get The Best Of Me                              |1         |\n",
      "|Cypress Hill    |Dust                                                  |1         |\n",
      "|David Guetta    |The World Is Mine (Radio Edit)                        |1         |\n",
      "|David Guetta    |When Love Takes Over (Feat. Kelly Rowland)            |1         |\n",
      "|Def Leppard     |Another Hit And Run                                   |1         |\n",
      "+----------------+------------------------------------------------------+----------+\n",
      "\n"
     ]
    }
   ],
   "source": [
    "# convert timestamp to datetime format\n",
    "data = data.withColumn(\"timestamp\", to_timestamp(\"timestamp\", \"yyyy-MM-dd'T'HH:mm:ss'Z'\"))\n",
    "\n",
    "# create a session id for each song played by a user\n",
    "session_window = Window.partitionBy(\"user\").orderBy(\"timestamp\")\n",
    "data = data.withColumn(\"prev_timestamp\", lag(\"timestamp\", 1).over(session_window))\n",
    "data = data.withColumn(\"session_id\", sum(when(col(\"timestamp\").cast(\"long\") - col(\"prev_timestamp\").cast(\"long\") > 20*60, 1).otherwise(0)).over(session_window))\n",
    "\n",
    "# filter out sessions with less than 2 songs\n",
    "session_count_window = Window.partitionBy(\"user\", \"session_id\").orderBy(\"timestamp\")\n",
    "data = data.withColumn(\"song_count\", count(\"*\").over(session_count_window))\n",
    "data = data.filter(col(\"song_count\") > 1)\n",
    "\n",
    "# get the top 50 longest sessions by tracks count\n",
    "session_window = Window.partitionBy(\"user\", \"session_id\").orderBy(\"timestamp\")\n",
    "data = data.withColumn(\"track_count\", count(\"*\").over(session_window))\n",
    "session_window = Window.partitionBy(\"user\").orderBy(desc(\"track_count\"), desc(\"timestamp\"))\n",
    "top_50_sessions = data.withColumn(\"rank\", dense_rank().over(session_window)).filter(col(\"rank\") <= 50)\n",
    "\n",
    "# get the top 10 songs played in the top 50 longest sessions by tracks count\n",
    "top_songs = top_50_sessions.groupBy(\"artist_name\", \"track_name\").agg(count(\"*\").alias(\"play_count\")).orderBy(desc(\"play_count\"), \"artist_name\", \"track_name\").limit(10)\n",
    "\n",
    "top_songs.show(10, False)"
   ],
   "metadata": {
    "collapsed": false,
    "ExecuteTime": {
     "start_time": "2023-04-19T09:06:06.357612Z",
     "end_time": "2023-04-19T09:08:37.370827Z"
    }
   }
  }
 ],
 "metadata": {
  "kernelspec": {
   "display_name": "Python 3",
   "language": "python",
   "name": "python3"
  },
  "language_info": {
   "codemirror_mode": {
    "name": "ipython",
    "version": 2
   },
   "file_extension": ".py",
   "mimetype": "text/x-python",
   "name": "python",
   "nbconvert_exporter": "python",
   "pygments_lexer": "ipython2",
   "version": "2.7.6"
  }
 },
 "nbformat": 4,
 "nbformat_minor": 0
}
